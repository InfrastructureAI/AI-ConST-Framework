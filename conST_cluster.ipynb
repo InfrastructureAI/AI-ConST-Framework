{
 "cells": [
  {
   "cell_type": "code",
   "execution_count": 1,
   "metadata": {
    "pycharm": {
     "is_executing": true
    }
   },
   "outputs": [],
   "source": [
    "import torch\n",
    "import argparse\n",
    "import random\n",
    "import numpy as np\n",
    "import pandas as pd\n",
    "from src.graph_func import graph_construction\n",
    "from src.utils_func import mk_dir, adata_preprocess, load_ST_file, res_search_fixed_clus, plot_clustering\n",
    "from src.training import conST_training\n",
    "\n",
    "import anndata\n",
    "from sklearn import metrics\n",
    "import matplotlib.pyplot as plt\n",
    "import scanpy as sc\n",
    "import os\n",
    "import warnings\n",
    "warnings.filterwarnings('ignore')"
   ]
  },
  {
   "cell_type": "code",
   "execution_count": 2,
   "metadata": {
    "scrolled": true
   },
   "outputs": [
    {
     "name": "stdout",
     "output_type": "stream",
     "text": [
      "Using device: cuda:0\n"
     ]
    }
   ],
   "source": [
    "parser = argparse.ArgumentParser()\n",
    "parser.add_argument('--k', type=int, default=10, help='parameter k in spatial graph')\n",
    "parser.add_argument('--knn_distanceType', type=str, default='euclidean',\n",
    "                    help='graph distance type: euclidean/cosine/correlation')\n",
    "parser.add_argument('--epochs', type=int, default=200, help='Number of epochs to train.')\n",
    "parser.add_argument('--cell_feat_dim', type=int, default=300, help='Dim of PCA')\n",
    "parser.add_argument('--feat_hidden1', type=int, default=100, help='Dim of DNN hidden 1-layer.')\n",
    "parser.add_argument('--feat_hidden2', type=int, default=20, help='Dim of DNN hidden 2-layer.')\n",
    "parser.add_argument('--gcn_hidden1', type=int, default=32, help='Dim of GCN hidden 1-layer.')\n",
    "parser.add_argument('--gcn_hidden2', type=int, default=8, help='Dim of GCN hidden 2-layer.')\n",
    "parser.add_argument('--p_drop', type=float, default=0.2, help='Dropout rate.')\n",
    "parser.add_argument('--use_img', type=bool, default=False, help='Use histology images.')\n",
    "parser.add_argument('--img_w', type=float, default=0.1, help='Weight of image features.')\n",
    "parser.add_argument('--use_pretrained', type=bool, default=True, help='Use pretrained weights.')\n",
    "parser.add_argument('--using_mask', type=bool, default=False, help='Using mask for multi-dataset.')\n",
    "parser.add_argument('--feat_w', type=float, default=10, help='Weight of DNN loss.')\n",
    "parser.add_argument('--gcn_w', type=float, default=0.1, help='Weight of GCN loss.')\n",
    "parser.add_argument('--dec_kl_w', type=float, default=10, help='Weight of DEC loss.')\n",
    "parser.add_argument('--gcn_lr', type=float, default=0.01, help='Initial GNN learning rate.')\n",
    "parser.add_argument('--gcn_decay', type=float, default=0.01, help='Initial decay rate.')\n",
    "parser.add_argument('--dec_cluster_n', type=int, default=10, help='DEC cluster number.')\n",
    "parser.add_argument('--dec_interval', type=int, default=20, help='DEC interval nnumber.')\n",
    "parser.add_argument('--dec_tol', type=float, default=0.00, help='DEC tol.')\n",
    "\n",
    "parser.add_argument('--seed', type=int, default=0, help='random seed')\n",
    "parser.add_argument('--beta', type=float, default=100, help='beta value for l2c')\n",
    "parser.add_argument('--cont_l2l', type=float, default=0.3, help='Weight of local contrastive learning loss.')\n",
    "parser.add_argument('--cont_l2c', type=float, default= 0.1, help='Weight of context contrastive learning loss.')\n",
    "parser.add_argument('--cont_l2g', type=float, default= 0.1, help='Weight of global contrastive learning loss.')\n",
    "\n",
    "parser.add_argument('--edge_drop_p1', type=float, default=0.1, help='drop rate of adjacent matrix of the first view')\n",
    "parser.add_argument('--edge_drop_p2', type=float, default=0.1, help='drop rate of adjacent matrix of the second view')\n",
    "parser.add_argument('--node_drop_p1', type=float, default=0.2, help='drop rate of node features of the first view')\n",
    "parser.add_argument('--node_drop_p2', type=float, default=0.3, help='drop rate of node features of the second view')\n",
    "\n",
    "# ______________ Eval clustering Setting ______________\n",
    "parser.add_argument('--eval_resolution', type=int, default=1, help='Eval cluster number.')\n",
    "parser.add_argument('--eval_graph_n', type=int, default=20, help='Eval graph kN tol.') \n",
    "\n",
    "params =  parser.parse_args(args=['--k', '20', '--knn_distanceType', 'euclidean', '--epochs', '200'])\n",
    "\n",
    "np.random.seed(params.seed)\n",
    "torch.manual_seed(params.seed)\n",
    "torch.cuda.manual_seed(params.seed)\n",
    "device = 'cuda:0' if torch.cuda.is_available() else 'cpu'\n",
    "print('Using device: ' + device)\n",
    "params.device = device"
   ]
  },
  {
   "cell_type": "code",
   "execution_count": 4,
   "metadata": {
    "scrolled": true
   },
   "outputs": [
    {
     "data": {
      "text/plain": [
       "\"\\npath = './data/spatialLIBD/151673'\\nadata_h5 = load_ST_file(path, count_file='151673_filtered_feature_bc_matrix.h5')\\nadata_X = adata_preprocess(adata_h5, min_cells=5, pca_n_comps=params.cell_feat_dim)\\ngraph_dict = graph_construction(adata_h5.obsm['spatial'], adata_h5.shape[0], params)\\nnp.save('./input/adatax.npy', adata_X)\\nnp.save('./input/graphdict.npy', graph_dict, allow_pickle = True)\\n\""
      ]
     },
     "execution_count": 4,
     "metadata": {},
     "output_type": "execute_result"
    }
   ],
   "source": [
    "\"\"\"\n",
    "path = './data/spatialLIBD/151673'\n",
    "adata_h5 = load_ST_file(path, count_file='151673_filtered_feature_bc_matrix.h5')\n",
    "adata_X = adata_preprocess(adata_h5, min_cells=5, pca_n_comps=params.cell_feat_dim)\n",
    "graph_dict = graph_construction(adata_h5.obsm['spatial'], adata_h5.shape[0], params)\n",
    "np.save('./input/adatax.npy', adata_X)\n",
    "np.save('./input/graphdict.npy', graph_dict, allow_pickle = True)\n",
    "\"\"\""
   ]
  },
  {
   "cell_type": "code",
   "execution_count": 5,
   "metadata": {},
   "outputs": [],
   "source": [
    "# set seed before every run\n",
    "def seed_torch(seed):\n",
    "    random.seed(seed)\n",
    "    os.environ['PYTHONHASHSEED'] = str(seed)\n",
    "    np.random.seed(seed)\n",
    "    torch.manual_seed(seed)\n",
    "    torch.cuda.manual_seed(seed)\n",
    "    torch.backends.cudnn.benchmark = False\n",
    "    torch.backends.cudnn.deterministic = True\n",
    "seed_torch(params.seed)"
   ]
  },
  {
   "cell_type": "code",
   "execution_count": 6,
   "metadata": {
    "scrolled": false
   },
   "outputs": [
    {
     "name": "stderr",
     "output_type": "stream",
     "text": [
      "Variable names are not unique. To make them unique, call `.var_names_make_unique`.\n",
      "Variable names are not unique. To make them unique, call `.var_names_make_unique`.\n"
     ]
    },
    {
     "name": "stdout",
     "output_type": "stream",
     "text": [
      "adata: (3639, 33538)\n",
      "0.42999999999999994\n",
      "===== Project: 151673 ARI score: 0.646\n"
     ]
    },
    {
     "data": {
      "image/png": "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