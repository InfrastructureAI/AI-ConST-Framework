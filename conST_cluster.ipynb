{
 "cells": [
  {
   "cell_type": "code",
   "execution_count": 1,
   "metadata": {
    "pycharm": {
     "is_executing": true
    }
   },
   "outputs": [],
   "source": [
    "import torch\n",
    "import argparse\n",
    "import random\n",
    "import numpy as np\n",
    "import pandas as pd\n",
    "from src.graph_func import graph_construction\n",
    "from src.utils_func import mk_dir, adata_preprocess, load_ST_file, res_search_fixed_clus, plot_clustering\n",
    "from src.training import conST_training\n",
    "\n",
    "import anndata\n",
    "from sklearn import metrics\n",
    "import matplotlib.pyplot as plt\n",
    "import scanpy as sc\n",
    "import os\n",
    "import warnings\n",
    "warnings.filterwarnings('ignore')"
   ]
  },
  {
   "cell_type": "code",
   "execution_count": 2,
   "metadata": {
    "scrolled": true
   },
   "outputs": [
    {
     "name": "stdout",
     "output_type": "stream",
     "text": [
      "Using device: cuda:0\n"
     ]
    }
   ],
   "source": [
    "parser = argparse.ArgumentParser()\n",
    "parser.add_argument('--k', type=int, default=10, help='parameter k in spatial graph')\n",
    "parser.add_argument('--knn_distanceType', type=str, default='euclidean',\n",
    "                    help='graph distance type: euclidean/cosine/correlation')\n",
    "parser.add_argument('--epochs', type=int, default=200, help='Number of epochs to train.')\n",
    "parser.add_argument('--cell_feat_dim', type=int, default=300, help='Dim of PCA')\n",
    "parser.add_argument('--feat_hidden1', type=int, default=100, help='Dim of DNN hidden 1-layer.')\n",
    "parser.add_argument('--feat_hidden2', type=int, default=20, help='Dim of DNN hidden 2-layer.')\n",
    "parser.add_argument('--gcn_hidden1', type=int, default=32, help='Dim of GCN hidden 1-layer.')\n",
    "parser.add_argument('--gcn_hidden2', type=int, default=8, help='Dim of GCN hidden 2-layer.')\n",
    "parser.add_argument('--p_drop', type=float, default=0.2, help='Dropout rate.')\n",
    "parser.add_argument('--use_img', type=bool, default=False, help='Use histology images.')\n",
    "parser.add_argument('--img_w', type=float, default=0.1, help='Weight of image features.')\n",
    "parser.add_argument('--use_pretrained', type=bool, default=True, help='Use pretrained weights.')\n",
    "parser.add_argument('--using_mask', type=bool, default=False, help='Using mask for multi-dataset.')\n",
    "parser.add_argument('--feat_w', type=float, default=10, help='Weight of DNN loss.')\n",
    "parser.add_argument('--gcn_w', type=float, default=0.1, help='Weight of GCN loss.')\n",
    "parser.add_argument('--dec_kl_w', type=float, default=10, help='Weight of DEC loss.')\n",
    "parser.add_argument('--gcn_lr', type=float, default=0.01, help='Initial GNN learning rate.')\n",
    "parser.add_argument('--gcn_decay', type=float, default=0.01, help='Initial decay rate.')\n",
    "parser.add_argument('--dec_cluster_n', type=int, default=10, help='DEC cluster number.')\n",
    "parser.add_argument('--dec_interval', type=int, default=20, help='DEC interval nnumber.')\n",
    "parser.add_argument('--dec_tol', type=float, default=0.00, help='DEC tol.')\n",
    "\n",
    "parser.add_argument('--seed', type=int, default=0, help='random seed')\n",
    "parser.add_argument('--beta', type=float, default=100, help='beta value for l2c')\n",
    "parser.add_argument('--cont_l2l', type=float, default=0.3, help='Weight of local contrastive learning loss.')\n",
    "parser.add_argument('--cont_l2c', type=float, default= 0.1, help='Weight of context contrastive learning loss.')\n",
    "parser.add_argument('--cont_l2g', type=float, default= 0.1, help='Weight of global contrastive learning loss.')\n",
    "\n",
    "parser.add_argument('--edge_drop_p1', type=float, default=0.1, help='drop rate of adjacent matrix of the first view')\n",
    "parser.add_argument('--edge_drop_p2', type=float, default=0.1, help='drop rate of adjacent matrix of the second view')\n",
    "parser.add_argument('--node_drop_p1', type=float, default=0.2, help='drop rate of node features of the first view')\n",
    "parser.add_argument('--node_drop_p2', type=float, default=0.3, help='drop rate of node features of the second view')\n",
    "\n",
    "# ______________ Eval clustering Setting ______________\n",
    "parser.add_argument('--eval_resolution', type=int, default=1, help='Eval cluster number.')\n",
    "parser.add_argument('--eval_graph_n', type=int, default=20, help='Eval graph kN tol.') \n",
    "\n",
    "params =  parser.parse_args(args=['--k', '20', '--knn_distanceType', 'euclidean', '--epochs', '200'])\n",
    "\n",
    "np.random.seed(params.seed)\n",
    "torch.manual_seed(params.seed)\n",
    "torch.cuda.manual_seed(params.seed)\n",
    "device = 'cuda:0' if torch.cuda.is_available() else 'cpu'\n",
    "print('Using device: ' + device)\n",
    "params.device = device"
   ]
  },
  {
   "cell_type": "code",
   "execution_count": 4,
   "metadata": {
    "scrolled": true
   },
   "outputs": [
    {
     "data": {
      "text/plain": [
       "\"\\npath = './data/spatialLIBD/151673'\\nadata_h5 = load_ST_file(path, count_file='151673_filtered_feature_bc_matrix.h5')\\nadata_X = adata_preprocess(adata_h5, min_cells=5, pca_n_comps=params.cell_feat_dim)\\ngraph_dict = graph_construction(adata_h5.obsm['spatial'], adata_h5.shape[0], params)\\nnp.save('./input/adatax.npy', adata_X)\\nnp.save('./input/graphdict.npy', graph_dict, allow_pickle = True)\\n\""
      ]
     },
     "execution_count": 4,
     "metadata": {},
     "output_type": "execute_result"
    }
   ],
   "source": [
    "\"\"\"\n",
    "path = './data/spatialLIBD/151673'\n",
    "adata_h5 = load_ST_file(path, count_file='151673_filtered_feature_bc_matrix.h5')\n",
    "adata_X = adata_preprocess(adata_h5, min_cells=5, pca_n_comps=params.cell_feat_dim)\n",
    "graph_dict = graph_construction(adata_h5.obsm['spatial'], adata_h5.shape[0], params)\n",
    "np.save('./input/adatax.npy', adata_X)\n",
    "np.save('./input/graphdict.npy', graph_dict, allow_pickle = True)\n",
    "\"\"\""
   ]
  },
  {
   "cell_type": "code",
   "execution_count": 5,
   "metadata": {},
   "outputs": [],
   "source": [
    "# set seed before every run\n",
    "def seed_torch(seed):\n",
    "    random.seed(seed)\n",
    "    os.environ['PYTHONHASHSEED'] = str(seed)\n",
    "    np.random.seed(seed)\n",
    "    torch.manual_seed(seed)\n",
    "    torch.cuda.manual_seed(seed)\n",
    "    torch.backends.cudnn.benchmark = False\n",
    "    torch.backends.cudnn.deterministic = True\n",
    "seed_torch(params.seed)"
   ]
  },
  {
   "cell_type": "code",
   "execution_count": 6,
   "metadata": {
    "scrolled": false
   },
   "outputs": [
    {
     "name": "stderr",
     "output_type": "stream",
     "text": [
      "Variable names are not unique. To make them unique, call `.var_names_make_unique`.\n",
      "Variable names are not unique. To make them unique, call `.var_names_make_unique`.\n"
     ]
    },
    {
     "name": "stdout",
     "output_type": "stream",
     "text": [
      "adata: (3639, 33538)\n",
      "0.42999999999999994\n",
      "===== Project: 151673 ARI score: 0.646\n"
     ]
    },
    {
     "data": {
      "image/png": "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